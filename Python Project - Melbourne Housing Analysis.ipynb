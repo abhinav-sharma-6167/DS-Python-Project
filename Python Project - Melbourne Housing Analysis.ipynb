{
 "cells": [
  {
   "cell_type": "markdown",
   "id": "5870f70d",
   "metadata": {},
   "source": [
    "## Introduction"
   ]
  },
  {
   "cell_type": "markdown",
   "id": "0a14d3b1",
   "metadata": {},
   "source": [
    "<font face = \"Tahoma\" size = 3> Post the 2008 housing crisis and it's global effects housing in Australia has seen a higher rise in prices comparable to the wage growth. House prices were seven times average annual income in late 2000s compared to three times in 1980s. Key reasons for this effect were :\n",
    "1. Greater availability of credit\n",
    "2. Low interest rates since 2008\n",
    "3. Limited release of new land by the government etc.\n",
    "\n",
    "Given the rise in house pricing increased so fast, some economists have a theory that the Australian property market, especially in cities like Melbourne is significantly overpriced and due for a downturn (price correction)\n",
    "In this project, we'll try to understand this effect in detail with visualizations and modeling prices against covariates that might effect house prices. We can try to answer the following questions - which sectors are the most expensive vs relatively reasonably priced, how have the prices changed in recent years, is there any seasonality associated with sales of housing units etc.\n"
   ]
  },
  {
   "cell_type": "markdown",
   "id": "d45fa26c",
   "metadata": {},
   "source": [
    "## Data Exploration"
   ]
  },
  {
   "cell_type": "markdown",
   "id": "aee00038",
   "metadata": {},
   "source": [
    "Load libraries"
   ]
  },
  {
   "cell_type": "code",
   "execution_count": 34,
   "id": "a2df9481",
   "metadata": {},
   "outputs": [
    {
     "name": "stdout",
     "output_type": "stream",
     "text": [
      "Populating the interactive namespace from numpy and matplotlib\n"
     ]
    }
   ],
   "source": [
    "# Import libraries\n",
    "\n",
    "#Pre-processing\n",
    "import pandas as pd\n",
    "import numpy as np\n",
    "\n",
    "#Plotting\n",
    "import matplotlib.pyplot as plt\n",
    "import seaborn as sns\n",
    "\n",
    "#Modelling\n",
    "from sklearn.model_selection import train_test_split\n",
    "from sklearn.tree import DecisionTreeRegressor\n",
    "from sklearn.metrics import mean_squared_error\n",
    "from sklearn.preprocessing import OneHotEncoder\n",
    "from sklearn.pipeline import Pipeline\n",
    "from sklearn.compose import ColumnTransformer\n",
    "\n",
    "#Magic\n",
    "%pylab inline\n",
    "\n",
    "#Custom options\n",
    "# No warnings about setting value on copy of slice\n",
    "pd.options.mode.chained_assignment = None\n",
    "# Display up to 60 columns of a dataframe\n",
    "pd.set_option('display.max_columns', 60)\n",
    "# Set default font size\n",
    "plt.rcParams['font.size'] = 24\n",
    "# Internal ipython tool for setting figure size\n",
    "from IPython.core.pylabtools import figsize\n",
    "#Sns plots options\n",
    "sns.set(font_scale = 1)\n",
    "sns.set_style('whitegrid')"
   ]
  },
  {
   "cell_type": "markdown",
   "id": "25c6b157",
   "metadata": {},
   "source": [
    "Read in the datafile"
   ]
  },
  {
   "cell_type": "code",
   "execution_count": 17,
   "id": "12dc03f5",
   "metadata": {},
   "outputs": [
    {
     "data": {
      "text/html": [
       "<div>\n",
       "<style scoped>\n",
       "    .dataframe tbody tr th:only-of-type {\n",
       "        vertical-align: middle;\n",
       "    }\n",
       "\n",
       "    .dataframe tbody tr th {\n",
       "        vertical-align: top;\n",
       "    }\n",
       "\n",
       "    .dataframe thead th {\n",
       "        text-align: right;\n",
       "    }\n",
       "</style>\n",
       "<table border=\"1\" class=\"dataframe\">\n",
       "  <thead>\n",
       "    <tr style=\"text-align: right;\">\n",
       "      <th></th>\n",
       "      <th>Suburb</th>\n",
       "      <th>Address</th>\n",
       "      <th>Rooms</th>\n",
       "      <th>Type</th>\n",
       "      <th>Price</th>\n",
       "      <th>Method</th>\n",
       "      <th>SellerG</th>\n",
       "      <th>Date</th>\n",
       "      <th>Distance</th>\n",
       "      <th>Postcode</th>\n",
       "      <th>Bedroom2</th>\n",
       "      <th>Bathroom</th>\n",
       "      <th>Car</th>\n",
       "      <th>Landsize</th>\n",
       "      <th>BuildingArea</th>\n",
       "      <th>YearBuilt</th>\n",
       "      <th>CouncilArea</th>\n",
       "      <th>Lattitude</th>\n",
       "      <th>Longtitude</th>\n",
       "      <th>Regionname</th>\n",
       "      <th>Propertycount</th>\n",
       "    </tr>\n",
       "  </thead>\n",
       "  <tbody>\n",
       "    <tr>\n",
       "      <th>0</th>\n",
       "      <td>Abbotsford</td>\n",
       "      <td>68 Studley St</td>\n",
       "      <td>2</td>\n",
       "      <td>h</td>\n",
       "      <td>NaN</td>\n",
       "      <td>SS</td>\n",
       "      <td>Jellis</td>\n",
       "      <td>3/09/2016</td>\n",
       "      <td>2.5</td>\n",
       "      <td>3067.0</td>\n",
       "      <td>2.0</td>\n",
       "      <td>1.0</td>\n",
       "      <td>1.0</td>\n",
       "      <td>126.0</td>\n",
       "      <td>NaN</td>\n",
       "      <td>NaN</td>\n",
       "      <td>Yarra City Council</td>\n",
       "      <td>-37.8014</td>\n",
       "      <td>144.9958</td>\n",
       "      <td>Northern Metropolitan</td>\n",
       "      <td>4019.0</td>\n",
       "    </tr>\n",
       "    <tr>\n",
       "      <th>1</th>\n",
       "      <td>Abbotsford</td>\n",
       "      <td>85 Turner St</td>\n",
       "      <td>2</td>\n",
       "      <td>h</td>\n",
       "      <td>1480000.0</td>\n",
       "      <td>S</td>\n",
       "      <td>Biggin</td>\n",
       "      <td>3/12/2016</td>\n",
       "      <td>2.5</td>\n",
       "      <td>3067.0</td>\n",
       "      <td>2.0</td>\n",
       "      <td>1.0</td>\n",
       "      <td>1.0</td>\n",
       "      <td>202.0</td>\n",
       "      <td>NaN</td>\n",
       "      <td>NaN</td>\n",
       "      <td>Yarra City Council</td>\n",
       "      <td>-37.7996</td>\n",
       "      <td>144.9984</td>\n",
       "      <td>Northern Metropolitan</td>\n",
       "      <td>4019.0</td>\n",
       "    </tr>\n",
       "    <tr>\n",
       "      <th>2</th>\n",
       "      <td>Abbotsford</td>\n",
       "      <td>25 Bloomburg St</td>\n",
       "      <td>2</td>\n",
       "      <td>h</td>\n",
       "      <td>1035000.0</td>\n",
       "      <td>S</td>\n",
       "      <td>Biggin</td>\n",
       "      <td>4/02/2016</td>\n",
       "      <td>2.5</td>\n",
       "      <td>3067.0</td>\n",
       "      <td>2.0</td>\n",
       "      <td>1.0</td>\n",
       "      <td>0.0</td>\n",
       "      <td>156.0</td>\n",
       "      <td>79.0</td>\n",
       "      <td>1900.0</td>\n",
       "      <td>Yarra City Council</td>\n",
       "      <td>-37.8079</td>\n",
       "      <td>144.9934</td>\n",
       "      <td>Northern Metropolitan</td>\n",
       "      <td>4019.0</td>\n",
       "    </tr>\n",
       "    <tr>\n",
       "      <th>3</th>\n",
       "      <td>Abbotsford</td>\n",
       "      <td>18/659 Victoria St</td>\n",
       "      <td>3</td>\n",
       "      <td>u</td>\n",
       "      <td>NaN</td>\n",
       "      <td>VB</td>\n",
       "      <td>Rounds</td>\n",
       "      <td>4/02/2016</td>\n",
       "      <td>2.5</td>\n",
       "      <td>3067.0</td>\n",
       "      <td>3.0</td>\n",
       "      <td>2.0</td>\n",
       "      <td>1.0</td>\n",
       "      <td>0.0</td>\n",
       "      <td>NaN</td>\n",
       "      <td>NaN</td>\n",
       "      <td>Yarra City Council</td>\n",
       "      <td>-37.8114</td>\n",
       "      <td>145.0116</td>\n",
       "      <td>Northern Metropolitan</td>\n",
       "      <td>4019.0</td>\n",
       "    </tr>\n",
       "    <tr>\n",
       "      <th>4</th>\n",
       "      <td>Abbotsford</td>\n",
       "      <td>5 Charles St</td>\n",
       "      <td>3</td>\n",
       "      <td>h</td>\n",
       "      <td>1465000.0</td>\n",
       "      <td>SP</td>\n",
       "      <td>Biggin</td>\n",
       "      <td>4/03/2017</td>\n",
       "      <td>2.5</td>\n",
       "      <td>3067.0</td>\n",
       "      <td>3.0</td>\n",
       "      <td>2.0</td>\n",
       "      <td>0.0</td>\n",
       "      <td>134.0</td>\n",
       "      <td>150.0</td>\n",
       "      <td>1900.0</td>\n",
       "      <td>Yarra City Council</td>\n",
       "      <td>-37.8093</td>\n",
       "      <td>144.9944</td>\n",
       "      <td>Northern Metropolitan</td>\n",
       "      <td>4019.0</td>\n",
       "    </tr>\n",
       "  </tbody>\n",
       "</table>\n",
       "</div>"
      ],
      "text/plain": [
       "       Suburb             Address  Rooms Type      Price Method SellerG  \\\n",
       "0  Abbotsford       68 Studley St      2    h        NaN     SS  Jellis   \n",
       "1  Abbotsford        85 Turner St      2    h  1480000.0      S  Biggin   \n",
       "2  Abbotsford     25 Bloomburg St      2    h  1035000.0      S  Biggin   \n",
       "3  Abbotsford  18/659 Victoria St      3    u        NaN     VB  Rounds   \n",
       "4  Abbotsford        5 Charles St      3    h  1465000.0     SP  Biggin   \n",
       "\n",
       "        Date  Distance  Postcode  Bedroom2  Bathroom  Car  Landsize  \\\n",
       "0  3/09/2016       2.5    3067.0       2.0       1.0  1.0     126.0   \n",
       "1  3/12/2016       2.5    3067.0       2.0       1.0  1.0     202.0   \n",
       "2  4/02/2016       2.5    3067.0       2.0       1.0  0.0     156.0   \n",
       "3  4/02/2016       2.5    3067.0       3.0       2.0  1.0       0.0   \n",
       "4  4/03/2017       2.5    3067.0       3.0       2.0  0.0     134.0   \n",
       "\n",
       "   BuildingArea  YearBuilt         CouncilArea  Lattitude  Longtitude  \\\n",
       "0           NaN        NaN  Yarra City Council   -37.8014    144.9958   \n",
       "1           NaN        NaN  Yarra City Council   -37.7996    144.9984   \n",
       "2          79.0     1900.0  Yarra City Council   -37.8079    144.9934   \n",
       "3           NaN        NaN  Yarra City Council   -37.8114    145.0116   \n",
       "4         150.0     1900.0  Yarra City Council   -37.8093    144.9944   \n",
       "\n",
       "              Regionname  Propertycount  \n",
       "0  Northern Metropolitan         4019.0  \n",
       "1  Northern Metropolitan         4019.0  \n",
       "2  Northern Metropolitan         4019.0  \n",
       "3  Northern Metropolitan         4019.0  \n",
       "4  Northern Metropolitan         4019.0  "
      ]
     },
     "execution_count": 17,
     "metadata": {},
     "output_type": "execute_result"
    }
   ],
   "source": [
    "data = pd.read_csv(\"Melbourne_housing_FULL.csv\")\n",
    "data.head()"
   ]
  },
  {
   "cell_type": "code",
   "execution_count": 18,
   "id": "aa1005a6",
   "metadata": {},
   "outputs": [
    {
     "data": {
      "text/plain": [
       "(34857, 21)"
      ]
     },
     "execution_count": 18,
     "metadata": {},
     "output_type": "execute_result"
    }
   ],
   "source": [
    "data.shape"
   ]
  },
  {
   "cell_type": "markdown",
   "id": "86987562",
   "metadata": {},
   "source": [
    "Explore data - #unique counts, NaNs etc."
   ]
  },
  {
   "cell_type": "code",
   "execution_count": 19,
   "id": "121ddf26",
   "metadata": {},
   "outputs": [
    {
     "data": {
      "text/plain": [
       "Suburb             351\n",
       "Address          34009\n",
       "Rooms               12\n",
       "Type                 3\n",
       "Price             2871\n",
       "Method               9\n",
       "SellerG            388\n",
       "Date                78\n",
       "Distance           215\n",
       "Postcode           211\n",
       "Bedroom2            15\n",
       "Bathroom            11\n",
       "Car                 15\n",
       "Landsize          1684\n",
       "BuildingArea       740\n",
       "YearBuilt          160\n",
       "CouncilArea         33\n",
       "Lattitude        13402\n",
       "Longtitude       14524\n",
       "Regionname           8\n",
       "Propertycount      342\n",
       "dtype: int64"
      ]
     },
     "execution_count": 19,
     "metadata": {},
     "output_type": "execute_result"
    }
   ],
   "source": [
    "data.apply(lambda x : x.nunique())"
   ]
  },
  {
   "cell_type": "code",
   "execution_count": 23,
   "id": "6b168674",
   "metadata": {
    "scrolled": false
   },
   "outputs": [
    {
     "data": {
      "text/plain": [
       "Suburb           0.000000\n",
       "Address          0.000000\n",
       "Rooms            0.000000\n",
       "Type             0.000000\n",
       "Price            0.218321\n",
       "Method           0.000000\n",
       "SellerG          0.000000\n",
       "Date             0.000000\n",
       "Distance         0.000029\n",
       "Postcode         0.000029\n",
       "Bedroom2         0.235735\n",
       "Bathroom         0.235993\n",
       "Car              0.250394\n",
       "Landsize         0.338813\n",
       "BuildingArea     0.605761\n",
       "YearBuilt        0.553863\n",
       "CouncilArea      0.000086\n",
       "Lattitude        0.228821\n",
       "Longtitude       0.228821\n",
       "Regionname       0.000086\n",
       "Propertycount    0.000086\n",
       "dtype: float64"
      ]
     },
     "execution_count": 23,
     "metadata": {},
     "output_type": "execute_result"
    }
   ],
   "source": [
    "data.apply(lambda x : x.isnull().sum()/len(x))"
   ]
  },
  {
   "cell_type": "markdown",
   "id": "08d09099",
   "metadata": {},
   "source": [
    "<font face=\"Tahoma\" size=3>We have data of 351 suburbs of Melbourne across 8 regions and 211 postal codes. For 21% (~7.6k) we do not have the price information. We intend to remove them from our analysis given we want to model price with other independent variables in this exercise. We have latitude and longitude for a sizable amount of the data, which should ideally be a great predictor under the assumption that prices for properties near to each other should be similar.\n",
    "\n",
    "We see BuildingArea and YearBuilt have more than 50% Null values, which means they probably might not be able to explain much of the variance in house pricing from a modeling perspective. However, given it makes intuitive sense that house price would depend on these two variables, we shouldn't be removing them and plan to extract as much information as possible from these variables."
   ]
  },
  {
   "cell_type": "code",
   "execution_count": 21,
   "id": "1ae58952",
   "metadata": {},
   "outputs": [
    {
     "data": {
      "text/plain": [
       "(27247, 21)"
      ]
     },
     "execution_count": 21,
     "metadata": {},
     "output_type": "execute_result"
    }
   ],
   "source": [
    "#Drop data where price is NA\n",
    "data_2 = data[data['Price'].notnull()]\n",
    "data_2.shape"
   ]
  },
  {
   "cell_type": "code",
   "execution_count": 26,
   "id": "2abd54fc",
   "metadata": {},
   "outputs": [
    {
     "data": {
      "text/plain": [
       "Suburb      345\n",
       "Postcode    209\n",
       "dtype: int64"
      ]
     },
     "execution_count": 26,
     "metadata": {},
     "output_type": "execute_result"
    }
   ],
   "source": [
    "data_2[['Suburb','Postcode']].apply(lambda x : x.nunique())"
   ]
  },
  {
   "cell_type": "markdown",
   "id": "513d992b",
   "metadata": {},
   "source": [
    "<font face=\"Tahoma\" size=3>Upon removing missing pricing information we have data across 345 suburbs and 209 postal codes."
   ]
  },
  {
   "cell_type": "code",
   "execution_count": 94,
   "id": "79922cff",
   "metadata": {
    "scrolled": false
   },
   "outputs": [
    {
     "data": {
      "text/plain": [
       "Bedroom2         0.236393\n",
       "Bathroom         0.236613\n",
       "Car              0.250450\n",
       "Landsize         0.340037\n",
       "BuildingArea     0.608911\n",
       "YearBuilt        0.556502\n",
       "CouncilArea      0.000110\n",
       "Lattitude        0.229530\n",
       "Longtitude       0.229530\n",
       "Regionname       0.000110\n",
       "Propertycount    0.000110\n",
       "dtype: float64"
      ]
     },
     "execution_count": 94,
     "metadata": {},
     "output_type": "execute_result"
    }
   ],
   "source": [
    "data_2.apply(lambda x : x.isnull().sum()/len(x))[10:21]"
   ]
  },
  {
   "cell_type": "markdown",
   "id": "2b030527",
   "metadata": {},
   "source": [
    "Missing values in updated dataset"
   ]
  },
  {
   "cell_type": "code",
   "execution_count": 28,
   "id": "49b22c23",
   "metadata": {},
   "outputs": [
    {
     "data": {
      "text/html": [
       "<div>\n",
       "<style scoped>\n",
       "    .dataframe tbody tr th:only-of-type {\n",
       "        vertical-align: middle;\n",
       "    }\n",
       "\n",
       "    .dataframe tbody tr th {\n",
       "        vertical-align: top;\n",
       "    }\n",
       "\n",
       "    .dataframe thead th {\n",
       "        text-align: right;\n",
       "    }\n",
       "</style>\n",
       "<table border=\"1\" class=\"dataframe\">\n",
       "  <thead>\n",
       "    <tr style=\"text-align: right;\">\n",
       "      <th></th>\n",
       "      <th>count</th>\n",
       "      <th>mean</th>\n",
       "      <th>std</th>\n",
       "      <th>min</th>\n",
       "      <th>25%</th>\n",
       "      <th>50%</th>\n",
       "      <th>75%</th>\n",
       "      <th>max</th>\n",
       "    </tr>\n",
       "  </thead>\n",
       "  <tbody>\n",
       "    <tr>\n",
       "      <th>Rooms</th>\n",
       "      <td>27247.0</td>\n",
       "      <td>2.992293e+00</td>\n",
       "      <td>0.954795</td>\n",
       "      <td>1.00000</td>\n",
       "      <td>2.0000</td>\n",
       "      <td>3.00000</td>\n",
       "      <td>4.000000e+00</td>\n",
       "      <td>1.600000e+01</td>\n",
       "    </tr>\n",
       "    <tr>\n",
       "      <th>Price</th>\n",
       "      <td>27247.0</td>\n",
       "      <td>1.050173e+06</td>\n",
       "      <td>641467.130105</td>\n",
       "      <td>85000.00000</td>\n",
       "      <td>635000.0000</td>\n",
       "      <td>870000.00000</td>\n",
       "      <td>1.295000e+06</td>\n",
       "      <td>1.120000e+07</td>\n",
       "    </tr>\n",
       "    <tr>\n",
       "      <th>Distance</th>\n",
       "      <td>27246.0</td>\n",
       "      <td>1.128028e+01</td>\n",
       "      <td>6.787469</td>\n",
       "      <td>0.00000</td>\n",
       "      <td>6.4000</td>\n",
       "      <td>10.50000</td>\n",
       "      <td>1.400000e+01</td>\n",
       "      <td>4.810000e+01</td>\n",
       "    </tr>\n",
       "    <tr>\n",
       "      <th>Postcode</th>\n",
       "      <td>27246.0</td>\n",
       "      <td>3.113796e+03</td>\n",
       "      <td>111.139676</td>\n",
       "      <td>3000.00000</td>\n",
       "      <td>3046.0000</td>\n",
       "      <td>3088.00000</td>\n",
       "      <td>3.153000e+03</td>\n",
       "      <td>3.978000e+03</td>\n",
       "    </tr>\n",
       "    <tr>\n",
       "      <th>Bedroom2</th>\n",
       "      <td>20806.0</td>\n",
       "      <td>3.046237e+00</td>\n",
       "      <td>0.955122</td>\n",
       "      <td>0.00000</td>\n",
       "      <td>2.0000</td>\n",
       "      <td>3.00000</td>\n",
       "      <td>4.000000e+00</td>\n",
       "      <td>2.000000e+01</td>\n",
       "    </tr>\n",
       "    <tr>\n",
       "      <th>Bathroom</th>\n",
       "      <td>20800.0</td>\n",
       "      <td>1.591683e+00</td>\n",
       "      <td>0.700880</td>\n",
       "      <td>0.00000</td>\n",
       "      <td>1.0000</td>\n",
       "      <td>1.00000</td>\n",
       "      <td>2.000000e+00</td>\n",
       "      <td>9.000000e+00</td>\n",
       "    </tr>\n",
       "    <tr>\n",
       "      <th>Car</th>\n",
       "      <td>20423.0</td>\n",
       "      <td>1.715370e+00</td>\n",
       "      <td>0.994216</td>\n",
       "      <td>0.00000</td>\n",
       "      <td>1.0000</td>\n",
       "      <td>2.00000</td>\n",
       "      <td>2.000000e+00</td>\n",
       "      <td>1.800000e+01</td>\n",
       "    </tr>\n",
       "    <tr>\n",
       "      <th>Landsize</th>\n",
       "      <td>17982.0</td>\n",
       "      <td>5.934889e+02</td>\n",
       "      <td>3757.266429</td>\n",
       "      <td>0.00000</td>\n",
       "      <td>219.0000</td>\n",
       "      <td>512.00000</td>\n",
       "      <td>6.640000e+02</td>\n",
       "      <td>4.330140e+05</td>\n",
       "    </tr>\n",
       "    <tr>\n",
       "      <th>BuildingArea</th>\n",
       "      <td>10656.0</td>\n",
       "      <td>1.568346e+02</td>\n",
       "      <td>449.222791</td>\n",
       "      <td>0.00000</td>\n",
       "      <td>100.0000</td>\n",
       "      <td>133.00000</td>\n",
       "      <td>1.820000e+02</td>\n",
       "      <td>4.451500e+04</td>\n",
       "    </tr>\n",
       "    <tr>\n",
       "      <th>YearBuilt</th>\n",
       "      <td>12084.0</td>\n",
       "      <td>1.966609e+03</td>\n",
       "      <td>36.762373</td>\n",
       "      <td>1196.00000</td>\n",
       "      <td>1950.0000</td>\n",
       "      <td>1970.00000</td>\n",
       "      <td>2.000000e+03</td>\n",
       "      <td>2.019000e+03</td>\n",
       "    </tr>\n",
       "    <tr>\n",
       "      <th>Lattitude</th>\n",
       "      <td>20993.0</td>\n",
       "      <td>-3.780696e+01</td>\n",
       "      <td>0.091619</td>\n",
       "      <td>-38.19043</td>\n",
       "      <td>-37.8609</td>\n",
       "      <td>-37.80046</td>\n",
       "      <td>-3.774897e+01</td>\n",
       "      <td>-3.739780e+01</td>\n",
       "    </tr>\n",
       "    <tr>\n",
       "      <th>Longtitude</th>\n",
       "      <td>20993.0</td>\n",
       "      <td>1.449967e+02</td>\n",
       "      <td>0.120680</td>\n",
       "      <td>144.42379</td>\n",
       "      <td>144.9253</td>\n",
       "      <td>145.00320</td>\n",
       "      <td>1.450688e+02</td>\n",
       "      <td>1.455264e+02</td>\n",
       "    </tr>\n",
       "    <tr>\n",
       "      <th>Propertycount</th>\n",
       "      <td>27244.0</td>\n",
       "      <td>7.566781e+03</td>\n",
       "      <td>4492.382418</td>\n",
       "      <td>83.00000</td>\n",
       "      <td>4294.0000</td>\n",
       "      <td>6567.00000</td>\n",
       "      <td>1.041200e+04</td>\n",
       "      <td>2.165000e+04</td>\n",
       "    </tr>\n",
       "  </tbody>\n",
       "</table>\n",
       "</div>"
      ],
      "text/plain": [
       "                 count          mean            std          min          25%  \\\n",
       "Rooms          27247.0  2.992293e+00       0.954795      1.00000       2.0000   \n",
       "Price          27247.0  1.050173e+06  641467.130105  85000.00000  635000.0000   \n",
       "Distance       27246.0  1.128028e+01       6.787469      0.00000       6.4000   \n",
       "Postcode       27246.0  3.113796e+03     111.139676   3000.00000    3046.0000   \n",
       "Bedroom2       20806.0  3.046237e+00       0.955122      0.00000       2.0000   \n",
       "Bathroom       20800.0  1.591683e+00       0.700880      0.00000       1.0000   \n",
       "Car            20423.0  1.715370e+00       0.994216      0.00000       1.0000   \n",
       "Landsize       17982.0  5.934889e+02    3757.266429      0.00000     219.0000   \n",
       "BuildingArea   10656.0  1.568346e+02     449.222791      0.00000     100.0000   \n",
       "YearBuilt      12084.0  1.966609e+03      36.762373   1196.00000    1950.0000   \n",
       "Lattitude      20993.0 -3.780696e+01       0.091619    -38.19043     -37.8609   \n",
       "Longtitude     20993.0  1.449967e+02       0.120680    144.42379     144.9253   \n",
       "Propertycount  27244.0  7.566781e+03    4492.382418     83.00000    4294.0000   \n",
       "\n",
       "                        50%           75%           max  \n",
       "Rooms               3.00000  4.000000e+00  1.600000e+01  \n",
       "Price          870000.00000  1.295000e+06  1.120000e+07  \n",
       "Distance           10.50000  1.400000e+01  4.810000e+01  \n",
       "Postcode         3088.00000  3.153000e+03  3.978000e+03  \n",
       "Bedroom2            3.00000  4.000000e+00  2.000000e+01  \n",
       "Bathroom            1.00000  2.000000e+00  9.000000e+00  \n",
       "Car                 2.00000  2.000000e+00  1.800000e+01  \n",
       "Landsize          512.00000  6.640000e+02  4.330140e+05  \n",
       "BuildingArea      133.00000  1.820000e+02  4.451500e+04  \n",
       "YearBuilt        1970.00000  2.000000e+03  2.019000e+03  \n",
       "Lattitude         -37.80046 -3.774897e+01 -3.739780e+01  \n",
       "Longtitude        145.00320  1.450688e+02  1.455264e+02  \n",
       "Propertycount    6567.00000  1.041200e+04  2.165000e+04  "
      ]
     },
     "execution_count": 28,
     "metadata": {},
     "output_type": "execute_result"
    }
   ],
   "source": [
    "data_2.describe().transpose()"
   ]
  },
  {
   "cell_type": "markdown",
   "id": "03383b9b",
   "metadata": {},
   "source": [
    "Univariate EDA - Number of Rooms"
   ]
  },
  {
   "cell_type": "code",
   "execution_count": 49,
   "id": "797f79fe",
   "metadata": {},
   "outputs": [
    {
     "data": {
      "image/png": "[encoded data removed]",
      "text/plain": [
       "<Figure size 432x288 with 1 Axes>"
      ]
     },
     "metadata": {},
     "output_type": "display_data"
    }
   ],
   "source": [
    "sns.countplot(x='Rooms', data=data_2)\n",
    "\n",
    "plt.title('Count of houses by #Rooms')\n",
    "plt.xlabel('#Rooms')\n",
    "plt.ylabel('#Houses')\n",
    "plt.show();"
   ]
  },
  {
   "cell_type": "code",
   "execution_count": 65,
   "id": "b6ae5844",
   "metadata": {},
   "outputs": [
    {
     "data": {
      "image/png": "[encoded data removed]",
      "text/plain": [
       "<Figure size 432x288 with 1 Axes>"
      ]
     },
     "metadata": {},
     "output_type": "display_data"
    }
   ],
   "source": [
    "sns.histplot(x='Price', data=data_2 , kde = True)\n",
    "\n",
    "plt.title('Count of houses by Price')\n",
    "plt.xlabel('Price in $10M')\n",
    "plt.ylabel('#Houses')\n",
    "plt.show();"
   ]
  },
  {
   "cell_type": "code",
   "execution_count": 96,
   "id": "d72a0a55",
   "metadata": {},
   "outputs": [
    {
     "data": {
      "text/plain": [
       "1800000.0"
      ]
     },
     "execution_count": 96,
     "metadata": {},
     "output_type": "execute_result"
    }
   ],
   "source": [
    "#Price by 95th percentile \n",
    "quantile(data_2['Price'],0.9)"
   ]
  },
  {
   "cell_type": "code",
   "execution_count": 64,
   "id": "7f564e2c",
   "metadata": {},
   "outputs": [
    {
     "data": {
      "text/plain": [
       "(2697, 21)"
      ]
     },
     "execution_count": 64,
     "metadata": {},
     "output_type": "execute_result"
    }
   ],
   "source": [
    "data_2[data_2['Price'] > quantile(data_2['Price'],0.9)].shape"
   ]
  },
  {
   "cell_type": "code",
   "execution_count": 69,
   "id": "e0715265",
   "metadata": {},
   "outputs": [
    {
     "data": {
      "image/png": "[encoded data removed]",
      "text/plain": [
       "<Figure size 432x288 with 1 Axes>"
      ]
     },
     "metadata": {},
     "output_type": "display_data"
    }
   ],
   "source": [
    "sns.histplot(x='Price', data=data_2[data_2['Price']>quantile(data_2['Price'],0.9)] , kde = True)\n",
    "\n",
    "plt.title('Count of expensive houses by Price')\n",
    "plt.xlabel('Price in $10M')\n",
    "plt.ylabel('#Houses')\n",
    "plt.show();"
   ]
  },
  {
   "cell_type": "markdown",
   "id": "ab70f3d3",
   "metadata": {},
   "source": [
    "Distribution is highly right skewed. We may need different model to predict higher end houses. We subset houses priced more than $1.8M into a separate dataframe and can model these prices separately. The idea is to validate, for houses with higher price prediction from full data model, whether the subsetted data model provides significant lift in accuracy. We see 2,697 such houses which should be a sizable number to test this hypothesis."
   ]
  },
  {
   "cell_type": "code",
   "execution_count": 71,
   "id": "51f3e08d",
   "metadata": {},
   "outputs": [
    {
     "data": {
      "image/png": "[encoded data removed]",
      "text/plain": [
       "<Figure size 432x288 with 1 Axes>"
      ]
     },
     "metadata": {},
     "output_type": "display_data"
    }
   ],
   "source": [
    "sns.histplot(x='Distance', data=data_2 , kde = True)\n",
    "\n",
    "plt.title('Count of houses by distance from CBD')\n",
    "plt.xlabel('Distance from CBD (in km)')\n",
    "plt.ylabel('#Houses')\n",
    "plt.show();"
   ]
  },
  {
   "cell_type": "code",
   "execution_count": 72,
   "id": "d5fd3b40",
   "metadata": {},
   "outputs": [
    {
     "data": {
      "image/png": "[encoded data removed]",
      "text/plain": [
       "<Figure size 432x288 with 1 Axes>"
      ]
     },
     "metadata": {},
     "output_type": "display_data"
    }
   ],
   "source": [
    "sns.histplot(x='Distance', data=data_2[data_2['Price']>quantile(data_2['Price'],0.9)] , kde = True)\n",
    "\n",
    "plt.title('Count of expensive houses by distance from CBD')\n",
    "plt.xlabel('Distance from CBD (in km)')\n",
    "plt.ylabel('#Houses')\n",
    "plt.show();"
   ]
  },
  {
   "cell_type": "markdown",
   "id": "e235ae7a",
   "metadata": {},
   "source": [
    "Most of the houses are based within 5-15 km radius from the Central Business District. Our sample of high priced houses also shows similar distribution. Key insight is almost no houses priced more than $1.8M are outside the 20km radius from CBD."
   ]
  },
  {
   "cell_type": "code",
   "execution_count": 74,
   "id": "fc91151a",
   "metadata": {},
   "outputs": [
    {
     "data": {
      "text/plain": [
       "Reservoir         727\n",
       "Bentleigh East    493\n",
       "Richmond          439\n",
       "Preston           415\n",
       "Brunswick         387\n",
       "Essendon          361\n",
       "Northcote         345\n",
       "Glenroy           342\n",
       "South Yarra       328\n",
       "Glen Iris         323\n",
       "Name: Suburb, dtype: int64"
      ]
     },
     "execution_count": 74,
     "metadata": {},
     "output_type": "execute_result"
    }
   ],
   "source": [
    "data_2['Suburb'].value_counts()[0:10]"
   ]
  },
  {
   "cell_type": "code",
   "execution_count": 97,
   "id": "334972f6",
   "metadata": {},
   "outputs": [
    {
     "data": {
      "text/plain": [
       "Text(0.5, 1.03, '#Houses sold by suburb for properties over $4M')"
      ]
     },
     "execution_count": 97,
     "metadata": {},
     "output_type": "execute_result"
    },
    {
     "data": {
      "image/png": "[encoded data removed]",
      "text/plain": [
       "<Figure size 432x288 with 1 Axes>"
      ]
     },
     "metadata": {},
     "output_type": "display_data"
    }
   ],
   "source": [
    "sns.countplot(data=data_2[data_2['Price']>quantile(data_2['Price'],0.995)], y='Suburb')\n",
    "plt.title(\"#Houses sold by suburb for properties over $4M\", y=1.03)"
   ]
  },
  {
   "cell_type": "markdown",
   "id": "d10ebcba",
   "metadata": {},
   "source": [
    "We see there are popular suburbs with most houses sold as well as few suburbs with few and expensive houses sold. If we do not want to pass information of all 345 suburbs, we atleast need to include these few suburbs information to provide pertinent information to regression model."
   ]
  },
  {
   "cell_type": "code",
   "execution_count": 110,
   "id": "5190692e",
   "metadata": {},
   "outputs": [
    {
     "data": {
      "text/plain": [
       "<AxesSubplot:xlabel='Type', ylabel='count'>"
      ]
     },
     "execution_count": 110,
     "metadata": {},
     "output_type": "execute_result"
    },
    {
     "data": {
      "image/png": "[encoded data removed]",
      "text/plain": [
       "<Figure size 432x288 with 1 Axes>"
      ]
     },
     "metadata": {},
     "output_type": "display_data"
    }
   ],
   "source": [
    "sns.countplot(x='Type', data=data_2)"
   ]
  },
  {
   "cell_type": "markdown",
   "id": "6b48c7ee",
   "metadata": {},
   "source": [
    "We see more houses than townhouses and units! We start further checking if all variables in data pass the basic sense check"
   ]
  },
  {
   "cell_type": "code",
   "execution_count": 118,
   "id": "972951bc",
   "metadata": {},
   "outputs": [
    {
     "data": {
      "text/plain": [
       "0.0"
      ]
     },
     "execution_count": 118,
     "metadata": {},
     "output_type": "execute_result"
    }
   ],
   "source": [
    "data_2['Size_per_rm'] = data_2['Landsize']/data_2['Rooms']\n",
    "data_2['Size_per_rm'].max()\n",
    "data_2['Size_per_rm'].min()"
   ]
  }
 ],
 "metadata": {
  "kernelspec": {
   "display_name": "Python 3",
   "language": "python",
   "name": "python3"
  },
  "language_info": {
   "codemirror_mode": {
    "name": "ipython",
    "version": 3
   },
   "file_extension": ".py",
   "mimetype": "text/x-python",
   "name": "python",
   "nbconvert_exporter": "python",
   "pygments_lexer": "ipython3",
   "version": "3.8.8"
  }
 },
 "nbformat": 4,
 "nbformat_minor": 5
}
